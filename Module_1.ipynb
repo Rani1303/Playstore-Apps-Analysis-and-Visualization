{
  "nbformat": 4,
  "nbformat_minor": 0,
  "metadata": {
    "colab": {
      "provenance": []
    },
    "kernelspec": {
      "name": "python3",
      "display_name": "Python 3"
    },
    "language_info": {
      "name": "python"
    }
  },
  "cells": [
    {
      "cell_type": "markdown",
      "source": [
        "# Project name : Google Playstore Apps Analysis & Visualization"
      ],
      "metadata": {
        "id": "-jVAzctqlYNi"
      }
    },
    {
      "cell_type": "markdown",
      "source": [
        "## **About the project**\n",
        "In this project, you will be working on a real-world dataset of the google play store, one of the most used applications for downloading android apps. This project aims on cleaning the dataset, analyze the given dataset, and mining informational quality insights. This project also involves visualizing the data to better and easily understand trends and different categories."
      ],
      "metadata": {
        "id": "in7iVOkQli0n"
      }
    },
    {
      "cell_type": "markdown",
      "source": [
        "# **Project Description**\n",
        "This project will help you understand how a real-world database is analyzed using SQL, how to get maximum available insights from the dataset, pre-process the data using python for a better upcoming performance, how a structured query language helps us retrieve useful information from the database, and visualize the data with the power bi tool."
      ],
      "metadata": {
        "id": "1rfwIV9Plnw0"
      }
    },
    {
      "cell_type": "markdown",
      "source": [
        "# **Module 1: Pre-processing, Analyzing data using Python and SQL.**\n",
        "In this module, you will query the dataset using structured query language to gain insights from the database. The problem statements to be solved will be provided to you and you need to provide the solution for the same using your logic. Different concepts of SQL will be used in this process such as aggregating the data, grouping the data, ordering the data, etc. Module 1 consists of subtasks which are as follows"
      ],
      "metadata": {
        "id": "9MffjgT-lsEP"
      }
    },
    {
      "cell_type": "markdown",
      "source": [
        "# **Cleaning** **playstore_apps**"
      ],
      "metadata": {
        "id": "nPk54LGvl1Bw"
      }
    },
    {
      "cell_type": "code",
      "execution_count": null,
      "metadata": {
        "id": "W2eGIiSigsqL"
      },
      "outputs": [],
      "source": [
        "#importing libraries\n",
        "\n",
        "import numpy as np\n",
        "import pandas as pd\n",
        "from numpy import nan"
      ]
    },
    {
      "cell_type": "code",
      "source": [
        "# import playstore_app data set\n",
        "\n",
        "app=pd.read_csv(\"playstore_apps.csv\",index_col='App')"
      ],
      "metadata": {
        "id": "Dc2RVC1Pg3Q0"
      },
      "execution_count": null,
      "outputs": []
    },
    {
      "cell_type": "code",
      "source": [
        "app.shape"
      ],
      "metadata": {
        "colab": {
          "base_uri": "https://localhost:8080/"
        },
        "id": "eioG_zejjX7A",
        "outputId": "ee72aaf4-2909-406c-db41-40a019efeb90"
      },
      "execution_count": null,
      "outputs": [
        {
          "output_type": "execute_result",
          "data": {
            "text/plain": [
              "(10841, 12)"
            ]
          },
          "metadata": {},
          "execution_count": 5
        }
      ]
    },
    {
      "cell_type": "code",
      "source": [
        "# drop duplicate values\n",
        "\n",
        "app.drop_duplicates(keep=False,inplace=True)"
      ],
      "metadata": {
        "id": "rQgknqUkg3dU"
      },
      "execution_count": null,
      "outputs": []
    },
    {
      "cell_type": "code",
      "source": [
        "app.head()"
      ],
      "metadata": {
        "colab": {
          "base_uri": "https://localhost:8080/",
          "height": 437
        },
        "id": "2TZqe9Ecg3f5",
        "outputId": "deee3d93-3771-477b-82c7-787503f0775e"
      },
      "execution_count": null,
      "outputs": [
        {
          "output_type": "execute_result",
          "data": {
            "text/plain": [
              "                                                          Category  Rating  \\\n",
              "App                                                                          \n",
              "Photo Editor & Candy Camera & Grid & ScrapBook      ART_AND_DESIGN     4.1   \n",
              "Coloring book moana                                 ART_AND_DESIGN     3.9   \n",
              "U Launcher Lite – FREE Live Cool Themes, Hide Apps  ART_AND_DESIGN     4.7   \n",
              "Sketch - Draw & Paint                               ART_AND_DESIGN     4.5   \n",
              "Pixel Draw - Number Art Coloring Book               ART_AND_DESIGN     4.3   \n",
              "\n",
              "                                                     Reviews  Size  \\\n",
              "App                                                                  \n",
              "Photo Editor & Candy Camera & Grid & ScrapBook         159.0   19M   \n",
              "Coloring book moana                                    967.0   14M   \n",
              "U Launcher Lite – FREE Live Cool Themes, Hide Apps   87510.0  8.7M   \n",
              "Sketch - Draw & Paint                               215644.0   25M   \n",
              "Pixel Draw - Number Art Coloring Book                  967.0  2.8M   \n",
              "\n",
              "                                                      Installs  Type  Price  \\\n",
              "App                                                                           \n",
              "Photo Editor & Candy Camera & Grid & ScrapBook         10000.0  Free    0.0   \n",
              "Coloring book moana                                   500000.0  Free    0.0   \n",
              "U Launcher Lite – FREE Live Cool Themes, Hide Apps   5000000.0  Free    0.0   \n",
              "Sketch - Draw & Paint                               50000000.0  Free    0.0   \n",
              "Pixel Draw - Number Art Coloring Book                 100000.0  Free    0.0   \n",
              "\n",
              "                                                   Content Rating  \\\n",
              "App                                                                 \n",
              "Photo Editor & Candy Camera & Grid & ScrapBook           Everyone   \n",
              "Coloring book moana                                      Everyone   \n",
              "U Launcher Lite – FREE Live Cool Themes, Hide Apps       Everyone   \n",
              "Sketch - Draw & Paint                                        Teen   \n",
              "Pixel Draw - Number Art Coloring Book                    Everyone   \n",
              "\n",
              "                                                                       Genres  \\\n",
              "App                                                                             \n",
              "Photo Editor & Candy Camera & Grid & ScrapBook                   Art & Design   \n",
              "Coloring book moana                                 Art & Design;Pretend Play   \n",
              "U Launcher Lite – FREE Live Cool Themes, Hide Apps               Art & Design   \n",
              "Sketch - Draw & Paint                                            Art & Design   \n",
              "Pixel Draw - Number Art Coloring Book                 Art & Design;Creativity   \n",
              "\n",
              "                                                   Last Updated  \\\n",
              "App                                                               \n",
              "Photo Editor & Candy Camera & Grid & ScrapBook       07-01-2018   \n",
              "Coloring book moana                                  15-01-2018   \n",
              "U Launcher Lite – FREE Live Cool Themes, Hide Apps   01-08-2018   \n",
              "Sketch - Draw & Paint                                08-06-2018   \n",
              "Pixel Draw - Number Art Coloring Book                20-06-2018   \n",
              "\n",
              "                                                           Current Ver  \\\n",
              "App                                                                      \n",
              "Photo Editor & Candy Camera & Grid & ScrapBook                   1.0.0   \n",
              "Coloring book moana                                              2.0.0   \n",
              "U Launcher Lite – FREE Live Cool Themes, Hide Apps               1.2.4   \n",
              "Sketch - Draw & Paint                               Varies with device   \n",
              "Pixel Draw - Number Art Coloring Book                              1.1   \n",
              "\n",
              "                                                     Android Ver  \n",
              "App                                                               \n",
              "Photo Editor & Candy Camera & Grid & ScrapBook      4.0.3 and up  \n",
              "Coloring book moana                                 4.0.3 and up  \n",
              "U Launcher Lite – FREE Live Cool Themes, Hide Apps  4.0.3 and up  \n",
              "Sketch - Draw & Paint                                 4.2 and up  \n",
              "Pixel Draw - Number Art Coloring Book                 4.4 and up  "
            ],
            "text/html": [
              "\n",
              "  <div id=\"df-cb2c995a-cdb3-4f98-9dcc-607b07f805e6\">\n",
              "    <div class=\"colab-df-container\">\n",
              "      <div>\n",
              "<style scoped>\n",
              "    .dataframe tbody tr th:only-of-type {\n",
              "        vertical-align: middle;\n",
              "    }\n",
              "\n",
              "    .dataframe tbody tr th {\n",
              "        vertical-align: top;\n",
              "    }\n",
              "\n",
              "    .dataframe thead th {\n",
              "        text-align: right;\n",
              "    }\n",
              "</style>\n",
              "<table border=\"1\" class=\"dataframe\">\n",
              "  <thead>\n",
              "    <tr style=\"text-align: right;\">\n",
              "      <th></th>\n",
              "      <th>Category</th>\n",
              "      <th>Rating</th>\n",
              "      <th>Reviews</th>\n",
              "      <th>Size</th>\n",
              "      <th>Installs</th>\n",
              "      <th>Type</th>\n",
              "      <th>Price</th>\n",
              "      <th>Content Rating</th>\n",
              "      <th>Genres</th>\n",
              "      <th>Last Updated</th>\n",
              "      <th>Current Ver</th>\n",
              "      <th>Android Ver</th>\n",
              "    </tr>\n",
              "    <tr>\n",
              "      <th>App</th>\n",
              "      <th></th>\n",
              "      <th></th>\n",
              "      <th></th>\n",
              "      <th></th>\n",
              "      <th></th>\n",
              "      <th></th>\n",
              "      <th></th>\n",
              "      <th></th>\n",
              "      <th></th>\n",
              "      <th></th>\n",
              "      <th></th>\n",
              "      <th></th>\n",
              "    </tr>\n",
              "  </thead>\n",
              "  <tbody>\n",
              "    <tr>\n",
              "      <th>Photo Editor &amp; Candy Camera &amp; Grid &amp; ScrapBook</th>\n",
              "      <td>ART_AND_DESIGN</td>\n",
              "      <td>4.1</td>\n",
              "      <td>159.0</td>\n",
              "      <td>19M</td>\n",
              "      <td>10000.0</td>\n",
              "      <td>Free</td>\n",
              "      <td>0.0</td>\n",
              "      <td>Everyone</td>\n",
              "      <td>Art &amp; Design</td>\n",
              "      <td>07-01-2018</td>\n",
              "      <td>1.0.0</td>\n",
              "      <td>4.0.3 and up</td>\n",
              "    </tr>\n",
              "    <tr>\n",
              "      <th>Coloring book moana</th>\n",
              "      <td>ART_AND_DESIGN</td>\n",
              "      <td>3.9</td>\n",
              "      <td>967.0</td>\n",
              "      <td>14M</td>\n",
              "      <td>500000.0</td>\n",
              "      <td>Free</td>\n",
              "      <td>0.0</td>\n",
              "      <td>Everyone</td>\n",
              "      <td>Art &amp; Design;Pretend Play</td>\n",
              "      <td>15-01-2018</td>\n",
              "      <td>2.0.0</td>\n",
              "      <td>4.0.3 and up</td>\n",
              "    </tr>\n",
              "    <tr>\n",
              "      <th>U Launcher Lite – FREE Live Cool Themes, Hide Apps</th>\n",
              "      <td>ART_AND_DESIGN</td>\n",
              "      <td>4.7</td>\n",
              "      <td>87510.0</td>\n",
              "      <td>8.7M</td>\n",
              "      <td>5000000.0</td>\n",
              "      <td>Free</td>\n",
              "      <td>0.0</td>\n",
              "      <td>Everyone</td>\n",
              "      <td>Art &amp; Design</td>\n",
              "      <td>01-08-2018</td>\n",
              "      <td>1.2.4</td>\n",
              "      <td>4.0.3 and up</td>\n",
              "    </tr>\n",
              "    <tr>\n",
              "      <th>Sketch - Draw &amp; Paint</th>\n",
              "      <td>ART_AND_DESIGN</td>\n",
              "      <td>4.5</td>\n",
              "      <td>215644.0</td>\n",
              "      <td>25M</td>\n",
              "      <td>50000000.0</td>\n",
              "      <td>Free</td>\n",
              "      <td>0.0</td>\n",
              "      <td>Teen</td>\n",
              "      <td>Art &amp; Design</td>\n",
              "      <td>08-06-2018</td>\n",
              "      <td>Varies with device</td>\n",
              "      <td>4.2 and up</td>\n",
              "    </tr>\n",
              "    <tr>\n",
              "      <th>Pixel Draw - Number Art Coloring Book</th>\n",
              "      <td>ART_AND_DESIGN</td>\n",
              "      <td>4.3</td>\n",
              "      <td>967.0</td>\n",
              "      <td>2.8M</td>\n",
              "      <td>100000.0</td>\n",
              "      <td>Free</td>\n",
              "      <td>0.0</td>\n",
              "      <td>Everyone</td>\n",
              "      <td>Art &amp; Design;Creativity</td>\n",
              "      <td>20-06-2018</td>\n",
              "      <td>1.1</td>\n",
              "      <td>4.4 and up</td>\n",
              "    </tr>\n",
              "  </tbody>\n",
              "</table>\n",
              "</div>\n",
              "      <button class=\"colab-df-convert\" onclick=\"convertToInteractive('df-cb2c995a-cdb3-4f98-9dcc-607b07f805e6')\"\n",
              "              title=\"Convert this dataframe to an interactive table.\"\n",
              "              style=\"display:none;\">\n",
              "        \n",
              "  <svg xmlns=\"http://www.w3.org/2000/svg\" height=\"24px\"viewBox=\"0 0 24 24\"\n",
              "       width=\"24px\">\n",
              "    <path d=\"M0 0h24v24H0V0z\" fill=\"none\"/>\n",
              "    <path d=\"M18.56 5.44l.94 2.06.94-2.06 2.06-.94-2.06-.94-.94-2.06-.94 2.06-2.06.94zm-11 1L8.5 8.5l.94-2.06 2.06-.94-2.06-.94L8.5 2.5l-.94 2.06-2.06.94zm10 10l.94 2.06.94-2.06 2.06-.94-2.06-.94-.94-2.06-.94 2.06-2.06.94z\"/><path d=\"M17.41 7.96l-1.37-1.37c-.4-.4-.92-.59-1.43-.59-.52 0-1.04.2-1.43.59L10.3 9.45l-7.72 7.72c-.78.78-.78 2.05 0 2.83L4 21.41c.39.39.9.59 1.41.59.51 0 1.02-.2 1.41-.59l7.78-7.78 2.81-2.81c.8-.78.8-2.07 0-2.86zM5.41 20L4 18.59l7.72-7.72 1.47 1.35L5.41 20z\"/>\n",
              "  </svg>\n",
              "      </button>\n",
              "      \n",
              "  <style>\n",
              "    .colab-df-container {\n",
              "      display:flex;\n",
              "      flex-wrap:wrap;\n",
              "      gap: 12px;\n",
              "    }\n",
              "\n",
              "    .colab-df-convert {\n",
              "      background-color: #E8F0FE;\n",
              "      border: none;\n",
              "      border-radius: 50%;\n",
              "      cursor: pointer;\n",
              "      display: none;\n",
              "      fill: #1967D2;\n",
              "      height: 32px;\n",
              "      padding: 0 0 0 0;\n",
              "      width: 32px;\n",
              "    }\n",
              "\n",
              "    .colab-df-convert:hover {\n",
              "      background-color: #E2EBFA;\n",
              "      box-shadow: 0px 1px 2px rgba(60, 64, 67, 0.3), 0px 1px 3px 1px rgba(60, 64, 67, 0.15);\n",
              "      fill: #174EA6;\n",
              "    }\n",
              "\n",
              "    [theme=dark] .colab-df-convert {\n",
              "      background-color: #3B4455;\n",
              "      fill: #D2E3FC;\n",
              "    }\n",
              "\n",
              "    [theme=dark] .colab-df-convert:hover {\n",
              "      background-color: #434B5C;\n",
              "      box-shadow: 0px 1px 3px 1px rgba(0, 0, 0, 0.15);\n",
              "      filter: drop-shadow(0px 1px 2px rgba(0, 0, 0, 0.3));\n",
              "      fill: #FFFFFF;\n",
              "    }\n",
              "  </style>\n",
              "\n",
              "      <script>\n",
              "        const buttonEl =\n",
              "          document.querySelector('#df-cb2c995a-cdb3-4f98-9dcc-607b07f805e6 button.colab-df-convert');\n",
              "        buttonEl.style.display =\n",
              "          google.colab.kernel.accessAllowed ? 'block' : 'none';\n",
              "\n",
              "        async function convertToInteractive(key) {\n",
              "          const element = document.querySelector('#df-cb2c995a-cdb3-4f98-9dcc-607b07f805e6');\n",
              "          const dataTable =\n",
              "            await google.colab.kernel.invokeFunction('convertToInteractive',\n",
              "                                                     [key], {});\n",
              "          if (!dataTable) return;\n",
              "\n",
              "          const docLinkHtml = 'Like what you see? Visit the ' +\n",
              "            '<a target=\"_blank\" href=https://colab.research.google.com/notebooks/data_table.ipynb>data table notebook</a>'\n",
              "            + ' to learn more about interactive tables.';\n",
              "          element.innerHTML = '';\n",
              "          dataTable['output_type'] = 'display_data';\n",
              "          await google.colab.output.renderOutput(dataTable, element);\n",
              "          const docLink = document.createElement('div');\n",
              "          docLink.innerHTML = docLinkHtml;\n",
              "          element.appendChild(docLink);\n",
              "        }\n",
              "      </script>\n",
              "    </div>\n",
              "  </div>\n",
              "  "
            ]
          },
          "metadata": {},
          "execution_count": 7
        }
      ]
    },
    {
      "cell_type": "code",
      "source": [
        "app.info()"
      ],
      "metadata": {
        "colab": {
          "base_uri": "https://localhost:8080/"
        },
        "id": "jmg_kw66g3iN",
        "outputId": "718bae7b-dd1a-46a3-a0f1-c9663b1c6a53"
      },
      "execution_count": null,
      "outputs": [
        {
          "output_type": "stream",
          "name": "stdout",
          "text": [
            "<class 'pandas.core.frame.DataFrame'>\n",
            "Index: 9930 entries, Photo Editor & Candy Camera & Grid & ScrapBook to iHoroscope - 2018 Daily Horoscope & Astrology\n",
            "Data columns (total 12 columns):\n",
            " #   Column          Non-Null Count  Dtype  \n",
            "---  ------          --------------  -----  \n",
            " 0   Category        9930 non-null   object \n",
            " 1   Rating          8487 non-null   float64\n",
            " 2   Reviews         9929 non-null   float64\n",
            " 3   Size            9930 non-null   object \n",
            " 4   Installs        9929 non-null   float64\n",
            " 5   Type            9929 non-null   object \n",
            " 6   Price           9929 non-null   float64\n",
            " 7   Content Rating  9929 non-null   object \n",
            " 8   Genres          9930 non-null   object \n",
            " 9   Last Updated    9929 non-null   object \n",
            " 10  Current Ver     9922 non-null   object \n",
            " 11  Android Ver     9927 non-null   object \n",
            "dtypes: float64(4), object(8)\n",
            "memory usage: 1008.5+ KB\n"
          ]
        }
      ]
    },
    {
      "cell_type": "code",
      "source": [
        "# checking for null values\n",
        "app.isnull().sum()"
      ],
      "metadata": {
        "colab": {
          "base_uri": "https://localhost:8080/"
        },
        "id": "pzXqAH9qg3kV",
        "outputId": "ef31ca3e-33a7-462b-e30f-6f93fc683b6d"
      },
      "execution_count": null,
      "outputs": [
        {
          "output_type": "execute_result",
          "data": {
            "text/plain": [
              "Category             0\n",
              "Rating            1443\n",
              "Reviews              1\n",
              "Size                 0\n",
              "Installs             1\n",
              "Type                 1\n",
              "Price                1\n",
              "Content Rating       1\n",
              "Genres               0\n",
              "Last Updated         1\n",
              "Current Ver          8\n",
              "Android Ver          3\n",
              "dtype: int64"
            ]
          },
          "metadata": {},
          "execution_count": 9
        }
      ]
    },
    {
      "cell_type": "code",
      "source": [
        "# find Category is equal to 1.9 and drop that row\n",
        "print(app[app['Category'] == '1.9'])"
      ],
      "metadata": {
        "colab": {
          "base_uri": "https://localhost:8080/"
        },
        "id": "2L-MFFvEg3pS",
        "outputId": "3ea91e91-48ca-49ad-b6c3-957075201a75"
      },
      "execution_count": null,
      "outputs": [
        {
          "output_type": "stream",
          "name": "stdout",
          "text": [
            "                                        Category  Rating  Reviews    Size  \\\n",
            "App                                                                         \n",
            "Life Made WI-Fi Touchscreen Photo Frame      1.9    19.0      NaN  1,000+   \n",
            "\n",
            "                                         Installs Type  Price Content Rating  \\\n",
            "App                                                                            \n",
            "Life Made WI-Fi Touchscreen Photo Frame       NaN    0    NaN            NaN   \n",
            "\n",
            "                                                    Genres Last Updated  \\\n",
            "App                                                                       \n",
            "Life Made WI-Fi Touchscreen Photo Frame  February 11, 2018          NaN   \n",
            "\n",
            "                                        Current Ver Android Ver  \n",
            "App                                                              \n",
            "Life Made WI-Fi Touchscreen Photo Frame  4.0 and up         NaN  \n"
          ]
        }
      ]
    },
    {
      "cell_type": "code",
      "source": [
        "app.drop(\"Life Made WI-Fi Touchscreen Photo Frame\",inplace=True)"
      ],
      "metadata": {
        "id": "QWd7PZ73g3ry"
      },
      "execution_count": null,
      "outputs": []
    },
    {
      "cell_type": "code",
      "source": [
        "print(app['Category'].unique())"
      ],
      "metadata": {
        "colab": {
          "base_uri": "https://localhost:8080/"
        },
        "id": "oi91oONxklF7",
        "outputId": "c719a5cd-9581-4995-8ef3-7c2df655d2e6"
      },
      "execution_count": null,
      "outputs": [
        {
          "output_type": "stream",
          "name": "stdout",
          "text": [
            "['ART_AND_DESIGN' 'AUTO_AND_VEHICLES' 'BEAUTY' 'BOOKS_AND_REFERENCE'\n",
            " 'BUSINESS' 'COMICS' 'COMMUNICATION' 'DATING' 'EDUCATION' 'ENTERTAINMENT'\n",
            " 'EVENTS' 'FINANCE' 'FOOD_AND_DRINK' 'HEALTH_AND_FITNESS' 'HOUSE_AND_HOME'\n",
            " 'LIBRARIES_AND_DEMO' 'LIFESTYLE' 'GAME' 'FAMILY' 'MEDICAL' 'SOCIAL'\n",
            " 'SHOPPING' 'PHOTOGRAPHY' 'SPORTS' 'TRAVEL_AND_LOCAL' 'TOOLS'\n",
            " 'PERSONALIZATION' 'PRODUCTIVITY' 'PARENTING' 'WEATHER' 'VIDEO_PLAYERS'\n",
            " 'NEWS_AND_MAGAZINES' 'MAPS_AND_NAVIGATION']\n"
          ]
        }
      ]
    },
    {
      "cell_type": "code",
      "source": [
        "# Add 0 in place of NAN value in Ratings\n",
        "app[\"Rating\"] = app[\"Rating\"].replace(np.nan,0 )"
      ],
      "metadata": {
        "id": "SwsHL6-ig3uO"
      },
      "execution_count": null,
      "outputs": []
    },
    {
      "cell_type": "code",
      "source": [
        "# drop NAN values\n",
        "app.dropna(inplace=True)"
      ],
      "metadata": {
        "id": "sxacL-0dg3wj"
      },
      "execution_count": null,
      "outputs": []
    },
    {
      "cell_type": "code",
      "source": [
        "# rename Columns \n",
        "app=app.rename(columns={\"Current Ver\": \"current_Ver\",\"Android Ver\":\"Android_Ver\",\"Last Updated\":\"Last_Updated\",\"Content Rating\":\"Content_Rating\"})"
      ],
      "metadata": {
        "id": "7cKTb05dg3y0"
      },
      "execution_count": null,
      "outputs": []
    },
    {
      "cell_type": "code",
      "source": [
        "app.info()"
      ],
      "metadata": {
        "colab": {
          "base_uri": "https://localhost:8080/"
        },
        "id": "pl29u9dhg31Q",
        "outputId": "e7feeb5a-87ab-4633-abe2-83c8c146ed69"
      },
      "execution_count": null,
      "outputs": [
        {
          "output_type": "stream",
          "name": "stdout",
          "text": [
            "<class 'pandas.core.frame.DataFrame'>\n",
            "Index: 9918 entries, Photo Editor & Candy Camera & Grid & ScrapBook to iHoroscope - 2018 Daily Horoscope & Astrology\n",
            "Data columns (total 12 columns):\n",
            " #   Column          Non-Null Count  Dtype  \n",
            "---  ------          --------------  -----  \n",
            " 0   Category        9918 non-null   object \n",
            " 1   Rating          9918 non-null   float64\n",
            " 2   Reviews         9918 non-null   float64\n",
            " 3   Size            9918 non-null   object \n",
            " 4   Installs        9918 non-null   float64\n",
            " 5   Type            9918 non-null   object \n",
            " 6   Price           9918 non-null   float64\n",
            " 7   Content_Rating  9918 non-null   object \n",
            " 8   Genres          9918 non-null   object \n",
            " 9   Last_Updated    9918 non-null   object \n",
            " 10  current_Ver     9918 non-null   object \n",
            " 11  Android_Ver     9918 non-null   object \n",
            "dtypes: float64(4), object(8)\n",
            "memory usage: 1007.3+ KB\n"
          ]
        }
      ]
    },
    {
      "cell_type": "code",
      "source": [
        "app.shape"
      ],
      "metadata": {
        "colab": {
          "base_uri": "https://localhost:8080/"
        },
        "id": "R1LHZ8Zzh70I",
        "outputId": "6283f440-ad72-44a1-a204-8609da75d3f2"
      },
      "execution_count": null,
      "outputs": [
        {
          "output_type": "execute_result",
          "data": {
            "text/plain": [
              "(9918, 12)"
            ]
          },
          "metadata": {},
          "execution_count": 18
        }
      ]
    },
    {
      "cell_type": "code",
      "source": [
        "# exporting the cleaned data\n",
        "app.to_csv(\"cleaned_apps_data.csv\")"
      ],
      "metadata": {
        "id": "mY4ftv4q8XX2"
      },
      "execution_count": null,
      "outputs": []
    },
    {
      "cell_type": "markdown",
      "source": [
        "# **Cleaning playstore_reviews**"
      ],
      "metadata": {
        "id": "KC2iDG9xlyTa"
      }
    },
    {
      "cell_type": "code",
      "source": [
        "# read Playstore_reviews data\n",
        "reviews=pd.read_csv(\"playstore_reviews.csv\",index_col='App')"
      ],
      "metadata": {
        "id": "6Hl0RyIyg335"
      },
      "execution_count": null,
      "outputs": []
    },
    {
      "cell_type": "code",
      "source": [
        "reviews.head()"
      ],
      "metadata": {
        "colab": {
          "base_uri": "https://localhost:8080/",
          "height": 237
        },
        "id": "RnJEwKGDg36N",
        "outputId": "30819c4c-9ecc-4917-f1c8-26da541531b7"
      },
      "execution_count": null,
      "outputs": [
        {
          "output_type": "execute_result",
          "data": {
            "text/plain": [
              "                                                       Translated_Review  \\\n",
              "App                                                                        \n",
              "10 Best Foods for You  I like eat delicious food. That's I'm cooking ...   \n",
              "10 Best Foods for You    This help eating healthy exercise regular basis   \n",
              "10 Best Foods for You                                                NaN   \n",
              "10 Best Foods for You         Works great especially going grocery store   \n",
              "10 Best Foods for You                                       Best idea us   \n",
              "\n",
              "                      Sentiment  Sentiment_Polarity  Sentiment_Subjectivity  \n",
              "App                                                                          \n",
              "10 Best Foods for You  Positive                1.00                0.533333  \n",
              "10 Best Foods for You  Positive                0.25                0.288462  \n",
              "10 Best Foods for You       NaN                 NaN                     NaN  \n",
              "10 Best Foods for You  Positive                0.40                0.875000  \n",
              "10 Best Foods for You  Positive                1.00                0.300000  "
            ],
            "text/html": [
              "\n",
              "  <div id=\"df-64a986d0-b380-446b-b5d1-7d163e64f6c4\">\n",
              "    <div class=\"colab-df-container\">\n",
              "      <div>\n",
              "<style scoped>\n",
              "    .dataframe tbody tr th:only-of-type {\n",
              "        vertical-align: middle;\n",
              "    }\n",
              "\n",
              "    .dataframe tbody tr th {\n",
              "        vertical-align: top;\n",
              "    }\n",
              "\n",
              "    .dataframe thead th {\n",
              "        text-align: right;\n",
              "    }\n",
              "</style>\n",
              "<table border=\"1\" class=\"dataframe\">\n",
              "  <thead>\n",
              "    <tr style=\"text-align: right;\">\n",
              "      <th></th>\n",
              "      <th>Translated_Review</th>\n",
              "      <th>Sentiment</th>\n",
              "      <th>Sentiment_Polarity</th>\n",
              "      <th>Sentiment_Subjectivity</th>\n",
              "    </tr>\n",
              "    <tr>\n",
              "      <th>App</th>\n",
              "      <th></th>\n",
              "      <th></th>\n",
              "      <th></th>\n",
              "      <th></th>\n",
              "    </tr>\n",
              "  </thead>\n",
              "  <tbody>\n",
              "    <tr>\n",
              "      <th>10 Best Foods for You</th>\n",
              "      <td>I like eat delicious food. That's I'm cooking ...</td>\n",
              "      <td>Positive</td>\n",
              "      <td>1.00</td>\n",
              "      <td>0.533333</td>\n",
              "    </tr>\n",
              "    <tr>\n",
              "      <th>10 Best Foods for You</th>\n",
              "      <td>This help eating healthy exercise regular basis</td>\n",
              "      <td>Positive</td>\n",
              "      <td>0.25</td>\n",
              "      <td>0.288462</td>\n",
              "    </tr>\n",
              "    <tr>\n",
              "      <th>10 Best Foods for You</th>\n",
              "      <td>NaN</td>\n",
              "      <td>NaN</td>\n",
              "      <td>NaN</td>\n",
              "      <td>NaN</td>\n",
              "    </tr>\n",
              "    <tr>\n",
              "      <th>10 Best Foods for You</th>\n",
              "      <td>Works great especially going grocery store</td>\n",
              "      <td>Positive</td>\n",
              "      <td>0.40</td>\n",
              "      <td>0.875000</td>\n",
              "    </tr>\n",
              "    <tr>\n",
              "      <th>10 Best Foods for You</th>\n",
              "      <td>Best idea us</td>\n",
              "      <td>Positive</td>\n",
              "      <td>1.00</td>\n",
              "      <td>0.300000</td>\n",
              "    </tr>\n",
              "  </tbody>\n",
              "</table>\n",
              "</div>\n",
              "      <button class=\"colab-df-convert\" onclick=\"convertToInteractive('df-64a986d0-b380-446b-b5d1-7d163e64f6c4')\"\n",
              "              title=\"Convert this dataframe to an interactive table.\"\n",
              "              style=\"display:none;\">\n",
              "        \n",
              "  <svg xmlns=\"http://www.w3.org/2000/svg\" height=\"24px\"viewBox=\"0 0 24 24\"\n",
              "       width=\"24px\">\n",
              "    <path d=\"M0 0h24v24H0V0z\" fill=\"none\"/>\n",
              "    <path d=\"M18.56 5.44l.94 2.06.94-2.06 2.06-.94-2.06-.94-.94-2.06-.94 2.06-2.06.94zm-11 1L8.5 8.5l.94-2.06 2.06-.94-2.06-.94L8.5 2.5l-.94 2.06-2.06.94zm10 10l.94 2.06.94-2.06 2.06-.94-2.06-.94-.94-2.06-.94 2.06-2.06.94z\"/><path d=\"M17.41 7.96l-1.37-1.37c-.4-.4-.92-.59-1.43-.59-.52 0-1.04.2-1.43.59L10.3 9.45l-7.72 7.72c-.78.78-.78 2.05 0 2.83L4 21.41c.39.39.9.59 1.41.59.51 0 1.02-.2 1.41-.59l7.78-7.78 2.81-2.81c.8-.78.8-2.07 0-2.86zM5.41 20L4 18.59l7.72-7.72 1.47 1.35L5.41 20z\"/>\n",
              "  </svg>\n",
              "      </button>\n",
              "      \n",
              "  <style>\n",
              "    .colab-df-container {\n",
              "      display:flex;\n",
              "      flex-wrap:wrap;\n",
              "      gap: 12px;\n",
              "    }\n",
              "\n",
              "    .colab-df-convert {\n",
              "      background-color: #E8F0FE;\n",
              "      border: none;\n",
              "      border-radius: 50%;\n",
              "      cursor: pointer;\n",
              "      display: none;\n",
              "      fill: #1967D2;\n",
              "      height: 32px;\n",
              "      padding: 0 0 0 0;\n",
              "      width: 32px;\n",
              "    }\n",
              "\n",
              "    .colab-df-convert:hover {\n",
              "      background-color: #E2EBFA;\n",
              "      box-shadow: 0px 1px 2px rgba(60, 64, 67, 0.3), 0px 1px 3px 1px rgba(60, 64, 67, 0.15);\n",
              "      fill: #174EA6;\n",
              "    }\n",
              "\n",
              "    [theme=dark] .colab-df-convert {\n",
              "      background-color: #3B4455;\n",
              "      fill: #D2E3FC;\n",
              "    }\n",
              "\n",
              "    [theme=dark] .colab-df-convert:hover {\n",
              "      background-color: #434B5C;\n",
              "      box-shadow: 0px 1px 3px 1px rgba(0, 0, 0, 0.15);\n",
              "      filter: drop-shadow(0px 1px 2px rgba(0, 0, 0, 0.3));\n",
              "      fill: #FFFFFF;\n",
              "    }\n",
              "  </style>\n",
              "\n",
              "      <script>\n",
              "        const buttonEl =\n",
              "          document.querySelector('#df-64a986d0-b380-446b-b5d1-7d163e64f6c4 button.colab-df-convert');\n",
              "        buttonEl.style.display =\n",
              "          google.colab.kernel.accessAllowed ? 'block' : 'none';\n",
              "\n",
              "        async function convertToInteractive(key) {\n",
              "          const element = document.querySelector('#df-64a986d0-b380-446b-b5d1-7d163e64f6c4');\n",
              "          const dataTable =\n",
              "            await google.colab.kernel.invokeFunction('convertToInteractive',\n",
              "                                                     [key], {});\n",
              "          if (!dataTable) return;\n",
              "\n",
              "          const docLinkHtml = 'Like what you see? Visit the ' +\n",
              "            '<a target=\"_blank\" href=https://colab.research.google.com/notebooks/data_table.ipynb>data table notebook</a>'\n",
              "            + ' to learn more about interactive tables.';\n",
              "          element.innerHTML = '';\n",
              "          dataTable['output_type'] = 'display_data';\n",
              "          await google.colab.output.renderOutput(dataTable, element);\n",
              "          const docLink = document.createElement('div');\n",
              "          docLink.innerHTML = docLinkHtml;\n",
              "          element.appendChild(docLink);\n",
              "        }\n",
              "      </script>\n",
              "    </div>\n",
              "  </div>\n",
              "  "
            ]
          },
          "metadata": {},
          "execution_count": 21
        }
      ]
    },
    {
      "cell_type": "code",
      "source": [
        "reviews.shape"
      ],
      "metadata": {
        "colab": {
          "base_uri": "https://localhost:8080/"
        },
        "id": "ubgzSFWrg38c",
        "outputId": "b9bd8e3b-8e51-4f9b-aa63-7fb376dec622"
      },
      "execution_count": null,
      "outputs": [
        {
          "output_type": "execute_result",
          "data": {
            "text/plain": [
              "(44260, 4)"
            ]
          },
          "metadata": {},
          "execution_count": 22
        }
      ]
    },
    {
      "cell_type": "code",
      "source": [
        "reviews.info()"
      ],
      "metadata": {
        "colab": {
          "base_uri": "https://localhost:8080/"
        },
        "id": "b-JTKo74g3-0",
        "outputId": "0a938cc5-33b4-455a-de6b-ca5b1fdc7905"
      },
      "execution_count": null,
      "outputs": [
        {
          "output_type": "stream",
          "name": "stdout",
          "text": [
            "<class 'pandas.core.frame.DataFrame'>\n",
            "Index: 44260 entries, 10 Best Foods for You to Fantasy Football Manager (FPL)\n",
            "Data columns (total 4 columns):\n",
            " #   Column                  Non-Null Count  Dtype  \n",
            "---  ------                  --------------  -----  \n",
            " 0   Translated_Review       25609 non-null  object \n",
            " 1   Sentiment               25612 non-null  object \n",
            " 2   Sentiment_Polarity      25612 non-null  float64\n",
            " 3   Sentiment_Subjectivity  25612 non-null  float64\n",
            "dtypes: float64(2), object(2)\n",
            "memory usage: 1.7+ MB\n"
          ]
        }
      ]
    },
    {
      "cell_type": "code",
      "source": [
        "# checking for null values\n",
        "reviews.isnull().sum()"
      ],
      "metadata": {
        "colab": {
          "base_uri": "https://localhost:8080/"
        },
        "id": "Riw3PK_a7zRJ",
        "outputId": "ac46a522-6577-433b-ee5a-4a2760da270f"
      },
      "execution_count": null,
      "outputs": [
        {
          "output_type": "execute_result",
          "data": {
            "text/plain": [
              "Translated_Review         18651\n",
              "Sentiment                 18648\n",
              "Sentiment_Polarity        18648\n",
              "Sentiment_Subjectivity    18648\n",
              "dtype: int64"
            ]
          },
          "metadata": {},
          "execution_count": 24
        }
      ]
    },
    {
      "cell_type": "code",
      "source": [
        "# drop NAN values\n",
        "reviews.dropna(axis=0,inplace=True)"
      ],
      "metadata": {
        "id": "ArHZV6TWg4BY"
      },
      "execution_count": null,
      "outputs": []
    },
    {
      "cell_type": "code",
      "source": [
        "reviews.info()"
      ],
      "metadata": {
        "colab": {
          "base_uri": "https://localhost:8080/"
        },
        "id": "dfs6v_Ywg4DH",
        "outputId": "b77c62d4-062b-4abe-c3aa-3b0fa14b07a7"
      },
      "execution_count": null,
      "outputs": [
        {
          "output_type": "stream",
          "name": "stdout",
          "text": [
            "<class 'pandas.core.frame.DataFrame'>\n",
            "Index: 25608 entries, 10 Best Foods for You to Fantasy Football Manager (FPL)\n",
            "Data columns (total 4 columns):\n",
            " #   Column                  Non-Null Count  Dtype  \n",
            "---  ------                  --------------  -----  \n",
            " 0   Translated_Review       25608 non-null  object \n",
            " 1   Sentiment               25608 non-null  object \n",
            " 2   Sentiment_Polarity      25608 non-null  float64\n",
            " 3   Sentiment_Subjectivity  25608 non-null  float64\n",
            "dtypes: float64(2), object(2)\n",
            "memory usage: 1000.3+ KB\n"
          ]
        }
      ]
    },
    {
      "cell_type": "code",
      "source": [
        "# getting all columns\n",
        "reviews.columns"
      ],
      "metadata": {
        "id": "nEVHgWFPg4Ox",
        "colab": {
          "base_uri": "https://localhost:8080/"
        },
        "outputId": "2e7706bb-fffc-4398-c27c-f56b47739b5e"
      },
      "execution_count": null,
      "outputs": [
        {
          "output_type": "execute_result",
          "data": {
            "text/plain": [
              "Index(['Translated_Review', 'Sentiment', 'Sentiment_Polarity',\n",
              "       'Sentiment_Subjectivity'],\n",
              "      dtype='object')"
            ]
          },
          "metadata": {},
          "execution_count": 27
        }
      ]
    },
    {
      "cell_type": "code",
      "source": [
        "# checking for null values again\n",
        "reviews.isnull().sum()"
      ],
      "metadata": {
        "id": "RKgJoA9Ig4RI",
        "colab": {
          "base_uri": "https://localhost:8080/"
        },
        "outputId": "10f86b1d-981e-4185-fc36-7ecfd537ad1d"
      },
      "execution_count": null,
      "outputs": [
        {
          "output_type": "execute_result",
          "data": {
            "text/plain": [
              "Translated_Review         0\n",
              "Sentiment                 0\n",
              "Sentiment_Polarity        0\n",
              "Sentiment_Subjectivity    0\n",
              "dtype: int64"
            ]
          },
          "metadata": {},
          "execution_count": 28
        }
      ]
    },
    {
      "cell_type": "code",
      "source": [
        "# checking for unique values\n",
        "print(reviews['Sentiment'].unique())"
      ],
      "metadata": {
        "colab": {
          "base_uri": "https://localhost:8080/"
        },
        "id": "7lEhADzK8KyM",
        "outputId": "1688c7e7-e17b-4b49-ad13-2a203b4648bb"
      },
      "execution_count": null,
      "outputs": [
        {
          "output_type": "stream",
          "name": "stdout",
          "text": [
            "['Positive' 'Neutral' 'Negative']\n"
          ]
        }
      ]
    },
    {
      "cell_type": "code",
      "source": [
        "# checking for unique values \n",
        "print(reviews['Sentiment_Polarity'].unique())"
      ],
      "metadata": {
        "colab": {
          "base_uri": "https://localhost:8080/"
        },
        "id": "iPNDn4lJ8Kte",
        "outputId": "9f09e13c-dff1-4e8c-94ec-99d916fc43e1"
      },
      "execution_count": null,
      "outputs": [
        {
          "output_type": "stream",
          "name": "stdout",
          "text": [
            "[ 1.          0.25        0.4        ... -0.25520833  0.25965608\n",
            "  0.11714286]\n"
          ]
        }
      ]
    },
    {
      "cell_type": "code",
      "source": [
        "# checking for unique values\n",
        "print(reviews['Sentiment_Subjectivity'].unique())"
      ],
      "metadata": {
        "colab": {
          "base_uri": "https://localhost:8080/"
        },
        "id": "J9tJYqfv8KqF",
        "outputId": "6335d931-a0e6-49a9-81f8-b5fb296b174f"
      },
      "execution_count": null,
      "outputs": [
        {
          "output_type": "stream",
          "name": "stdout",
          "text": [
            "[0.53333333 0.28846154 0.875      ... 0.29380952 0.54280303 0.67063492]\n"
          ]
        }
      ]
    },
    {
      "cell_type": "code",
      "source": [
        "# getting dimensions of dataset after performing data cleaning\n",
        "reviews.shape"
      ],
      "metadata": {
        "colab": {
          "base_uri": "https://localhost:8080/"
        },
        "id": "hLj6gx0h8Pv-",
        "outputId": "f97cd164-51ad-4a32-87d7-02e1c2483539"
      },
      "execution_count": null,
      "outputs": [
        {
          "output_type": "execute_result",
          "data": {
            "text/plain": [
              "(25608, 4)"
            ]
          },
          "metadata": {},
          "execution_count": 32
        }
      ]
    },
    {
      "cell_type": "code",
      "source": [
        "# exporting the cleaned data\n",
        "reviews.to_csv(\"cleaned_reviews_data.csv\")"
      ],
      "metadata": {
        "id": "B-pmDFTB8Psc"
      },
      "execution_count": null,
      "outputs": []
    }
  ]
}